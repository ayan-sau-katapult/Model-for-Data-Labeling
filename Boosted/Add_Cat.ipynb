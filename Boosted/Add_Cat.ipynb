{
 "cells": [
  {
   "cell_type": "code",
   "execution_count": 9,
   "id": "1c31b696",
   "metadata": {},
   "outputs": [],
   "source": [
    "import pandas as pd"
   ]
  },
  {
   "cell_type": "code",
   "execution_count": 10,
   "id": "5bb5695a",
   "metadata": {},
   "outputs": [
    {
     "data": {
      "text/plain": [
       "(84, 2)"
      ]
     },
     "execution_count": 10,
     "metadata": {},
     "output_type": "execute_result"
    }
   ],
   "source": [
    "df_main=pd.read_excel(\"boosted_auto_labeled.xlsx\")[[\"name\",\"Is_Leasable\"]]\n",
    "df_main.shape"
   ]
  },
  {
   "cell_type": "code",
   "execution_count": 11,
   "id": "121ef5e7",
   "metadata": {},
   "outputs": [
    {
     "data": {
      "text/plain": [
       "(84, 3)"
      ]
     },
     "execution_count": 11,
     "metadata": {},
     "output_type": "execute_result"
    }
   ],
   "source": [
    "df_cat=pd.read_excel(\"boosted.xlsx\")[[\"name\",\"Category\",\"Is_Leasable\"]]\n",
    "df_cat[\"name\"]=df_cat[\"name\"].apply(lambda x:x.lower())\n",
    "df_cat[\"Category\"]=df_cat[\"Category\"].apply(lambda x:x.lower())\n",
    "df_cat.shape"
   ]
  },
  {
   "cell_type": "code",
   "execution_count": 16,
   "id": "e0a0decd",
   "metadata": {},
   "outputs": [],
   "source": [
    "result = pd.merge(df_main, df_cat, how=\"left\", on=[\"name\"])"
   ]
  },
  {
   "cell_type": "code",
   "execution_count": 17,
   "id": "7609631a",
   "metadata": {},
   "outputs": [
    {
     "data": {
      "text/plain": [
       "(88, 4)"
      ]
     },
     "execution_count": 17,
     "metadata": {},
     "output_type": "execute_result"
    }
   ],
   "source": [
    "result.shape"
   ]
  },
  {
   "cell_type": "code",
   "execution_count": 18,
   "id": "8e1c8dd8",
   "metadata": {},
   "outputs": [
    {
     "data": {
      "text/html": [
       "<div>\n",
       "<style scoped>\n",
       "    .dataframe tbody tr th:only-of-type {\n",
       "        vertical-align: middle;\n",
       "    }\n",
       "\n",
       "    .dataframe tbody tr th {\n",
       "        vertical-align: top;\n",
       "    }\n",
       "\n",
       "    .dataframe thead th {\n",
       "        text-align: right;\n",
       "    }\n",
       "</style>\n",
       "<table border=\"1\" class=\"dataframe\">\n",
       "  <thead>\n",
       "    <tr style=\"text-align: right;\">\n",
       "      <th></th>\n",
       "      <th>name</th>\n",
       "      <th>Is_Leasable_x</th>\n",
       "      <th>Category</th>\n",
       "      <th>Is_Leasable_y</th>\n",
       "    </tr>\n",
       "  </thead>\n",
       "  <tbody>\n",
       "    <tr>\n",
       "      <th>0</th>\n",
       "      <td>boosted trucks</td>\n",
       "      <td>0</td>\n",
       "      <td>accessories</td>\n",
       "      <td>False</td>\n",
       "    </tr>\n",
       "    <tr>\n",
       "      <th>1</th>\n",
       "      <td>boosted rev motor driver esc</td>\n",
       "      <td>0</td>\n",
       "      <td>NaN</td>\n",
       "      <td>NaN</td>\n",
       "    </tr>\n",
       "    <tr>\n",
       "      <th>2</th>\n",
       "      <td>boosted pulley belt upgrade kit</td>\n",
       "      <td>0</td>\n",
       "      <td>NaN</td>\n",
       "      <td>NaN</td>\n",
       "    </tr>\n",
       "    <tr>\n",
       "      <th>3</th>\n",
       "      <td>loaded caguama 85s complete orange</td>\n",
       "      <td>0</td>\n",
       "      <td>NaN</td>\n",
       "      <td>NaN</td>\n",
       "    </tr>\n",
       "    <tr>\n",
       "      <th>4</th>\n",
       "      <td>bearing service kit</td>\n",
       "      <td>0</td>\n",
       "      <td>accessories</td>\n",
       "      <td>False</td>\n",
       "    </tr>\n",
       "    <tr>\n",
       "      <th>...</th>\n",
       "      <td>...</td>\n",
       "      <td>...</td>\n",
       "      <td>...</td>\n",
       "      <td>...</td>\n",
       "    </tr>\n",
       "    <tr>\n",
       "      <th>83</th>\n",
       "      <td>magura mt5 disc brake upgrade kit boosted rev</td>\n",
       "      <td>1</td>\n",
       "      <td>NaN</td>\n",
       "      <td>NaN</td>\n",
       "    </tr>\n",
       "    <tr>\n",
       "      <th>84</th>\n",
       "      <td>boosted rev stem</td>\n",
       "      <td>1</td>\n",
       "      <td>accessories</td>\n",
       "      <td>False</td>\n",
       "    </tr>\n",
       "    <tr>\n",
       "      <th>85</th>\n",
       "      <td>stickers</td>\n",
       "      <td>1</td>\n",
       "      <td>accessories</td>\n",
       "      <td>False</td>\n",
       "    </tr>\n",
       "    <tr>\n",
       "      <th>86</th>\n",
       "      <td>boosted skate tool</td>\n",
       "      <td>1</td>\n",
       "      <td>accessories</td>\n",
       "      <td>False</td>\n",
       "    </tr>\n",
       "    <tr>\n",
       "      <th>87</th>\n",
       "      <td>boosted belt kit</td>\n",
       "      <td>1</td>\n",
       "      <td>accessories</td>\n",
       "      <td>False</td>\n",
       "    </tr>\n",
       "  </tbody>\n",
       "</table>\n",
       "<p>81 rows × 4 columns</p>\n",
       "</div>"
      ],
      "text/plain": [
       "                                             name  Is_Leasable_x     Category  \\\n",
       "0                                  boosted trucks              0  accessories   \n",
       "1                    boosted rev motor driver esc              0          NaN   \n",
       "2                 boosted pulley belt upgrade kit              0          NaN   \n",
       "3              loaded caguama 85s complete orange              0          NaN   \n",
       "4                             bearing service kit              0  accessories   \n",
       "..                                            ...            ...          ...   \n",
       "83  magura mt5 disc brake upgrade kit boosted rev              1          NaN   \n",
       "84                               boosted rev stem              1  accessories   \n",
       "85                                       stickers              1  accessories   \n",
       "86                             boosted skate tool              1  accessories   \n",
       "87                               boosted belt kit              1  accessories   \n",
       "\n",
       "   Is_Leasable_y  \n",
       "0          False  \n",
       "1            NaN  \n",
       "2            NaN  \n",
       "3            NaN  \n",
       "4          False  \n",
       "..           ...  \n",
       "83           NaN  \n",
       "84         False  \n",
       "85         False  \n",
       "86         False  \n",
       "87         False  \n",
       "\n",
       "[81 rows x 4 columns]"
      ]
     },
     "execution_count": 18,
     "metadata": {},
     "output_type": "execute_result"
    }
   ],
   "source": [
    "result.drop_duplicates(subset=\"name\")"
   ]
  },
  {
   "cell_type": "code",
   "execution_count": 19,
   "id": "15def5d0",
   "metadata": {},
   "outputs": [
    {
     "data": {
      "text/plain": [
       "name              0\n",
       "Is_Leasable_x     0\n",
       "Category         31\n",
       "Is_Leasable_y    31\n",
       "dtype: int64"
      ]
     },
     "execution_count": 19,
     "metadata": {},
     "output_type": "execute_result"
    }
   ],
   "source": [
    "result.isnull().sum()"
   ]
  },
  {
   "cell_type": "code",
   "execution_count": 20,
   "id": "835ee959",
   "metadata": {},
   "outputs": [],
   "source": [
    "result.to_excel(\"final_boosted.xlsx\")"
   ]
  },
  {
   "cell_type": "code",
   "execution_count": null,
   "id": "ea627e01",
   "metadata": {},
   "outputs": [],
   "source": []
  }
 ],
 "metadata": {
  "kernelspec": {
   "display_name": "Python 3",
   "language": "python",
   "name": "python3"
  },
  "language_info": {
   "codemirror_mode": {
    "name": "ipython",
    "version": 3
   },
   "file_extension": ".py",
   "mimetype": "text/x-python",
   "name": "python",
   "nbconvert_exporter": "python",
   "pygments_lexer": "ipython3",
   "version": "3.8.8"
  }
 },
 "nbformat": 4,
 "nbformat_minor": 5
}
