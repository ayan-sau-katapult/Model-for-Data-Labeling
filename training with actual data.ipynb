{
 "cells": [
  {
   "cell_type": "code",
   "execution_count": 78,
   "id": "2e4a691f",
   "metadata": {},
   "outputs": [
    {
     "name": "stderr",
     "output_type": "stream",
     "text": [
      "[nltk_data] Downloading package stopwords to\n",
      "[nltk_data]     C:\\Users\\AyanSau\\AppData\\Roaming\\nltk_data...\n",
      "[nltk_data]   Package stopwords is already up-to-date!\n"
     ]
    }
   ],
   "source": [
    "# Pre-Processing Part\n",
    "\n",
    "import re\n",
    "import nltk\n",
    "nltk.download('stopwords')\n",
    "import string\n",
    "string.punctuation\n",
    "\n",
    "stopword = nltk.corpus.stopwords.words('english')\n",
    "\n",
    "def to_lower_case(text):\n",
    "    return str(text).lower()\n",
    "\n",
    "def remove_punctuation(text):\n",
    "    no_punct=[words for words in text if words not in string.punctuation]\n",
    "    words_wo_punct=''.join(no_punct)\n",
    "    return words_wo_punct\n",
    "\n",
    "def tokenize(text):\n",
    "    split=re.split(\"\\W+\",text) \n",
    "    return split\n",
    "\n",
    "def remove_stopwords(text):\n",
    "    text=[word for word in text if word not in stopword]\n",
    "    return text   \n",
    "\n",
    "\n",
    "from transformers import BertTokenizer\n",
    "tokenizer=BertTokenizer.from_pretrained('bert-base-uncased')\n",
    "import torch\n",
    "import numpy as np\n",
    "from sklearn import preprocessing\n",
    "import pandas as pd\n",
    "\n",
    "def sen_to_vec(sentence):\n",
    "    tokens=tokenizer.tokenize(sentence)\n",
    "    tokens = ['[CLS]'] + tokens + ['[SEP]']\n",
    "    T=52\n",
    "    padded_tokens=tokens +['[PAD]' for _ in range(T-len(tokens))]\n",
    "    attn_mask=[ 1 if token != '[PAD]' else 0 for token in padded_tokens  ]\n",
    "    seg_ids=[0 for _ in range(len(padded_tokens))]\n",
    "    sent_ids=tokenizer.convert_tokens_to_ids(padded_tokens)\n",
    "    return np.array(sent_ids)\n",
    "\n",
    "le = preprocessing.LabelEncoder()"
   ]
  },
  {
   "cell_type": "code",
   "execution_count": 79,
   "id": "399ec2c2",
   "metadata": {},
   "outputs": [],
   "source": [
    "import pandas as pd\n",
    "from sklearn.utils import shuffle\n",
    "df_train=shuffle(pd.read_excel(\"Alldata.xlsx\"))#.drop(\"Unnamed: 0\",axis=1))"
   ]
  },
  {
   "cell_type": "code",
   "execution_count": 80,
   "id": "aa48432a",
   "metadata": {},
   "outputs": [],
   "source": [
    "df_train.shape\n",
    "df_train=df_train.dropna()"
   ]
  },
  {
   "cell_type": "code",
   "execution_count": 81,
   "id": "74f5cf46",
   "metadata": {},
   "outputs": [
    {
     "data": {
      "text/plain": [
       "name           object\n",
       "Category       object\n",
       "Is_Leasable      bool\n",
       "dtype: object"
      ]
     },
     "execution_count": 81,
     "metadata": {},
     "output_type": "execute_result"
    }
   ],
   "source": [
    "df_train.dtypes"
   ]
  },
  {
   "cell_type": "code",
   "execution_count": 82,
   "id": "73746051",
   "metadata": {},
   "outputs": [
    {
     "data": {
      "text/plain": [
       "name           object\n",
       "Category       object\n",
       "Is_Leasable    object\n",
       "dtype: object"
      ]
     },
     "execution_count": 82,
     "metadata": {},
     "output_type": "execute_result"
    }
   ],
   "source": [
    "df_train[\"Is_Leasable\"]=df_train[\"Is_Leasable\"].astype(\"str\")\n",
    "df_train.dtypes"
   ]
  },
  {
   "cell_type": "code",
   "execution_count": 83,
   "id": "16739f0e",
   "metadata": {},
   "outputs": [
    {
     "data": {
      "text/html": [
       "<div>\n",
       "<style scoped>\n",
       "    .dataframe tbody tr th:only-of-type {\n",
       "        vertical-align: middle;\n",
       "    }\n",
       "\n",
       "    .dataframe tbody tr th {\n",
       "        vertical-align: top;\n",
       "    }\n",
       "\n",
       "    .dataframe thead th {\n",
       "        text-align: right;\n",
       "    }\n",
       "</style>\n",
       "<table border=\"1\" class=\"dataframe\">\n",
       "  <thead>\n",
       "    <tr style=\"text-align: right;\">\n",
       "      <th></th>\n",
       "      <th>name</th>\n",
       "      <th>Is_Leasable</th>\n",
       "      <th>sentence_vectors</th>\n",
       "    </tr>\n",
       "  </thead>\n",
       "  <tbody>\n",
       "    <tr>\n",
       "      <th>123</th>\n",
       "      <td>elevation graphic tee</td>\n",
       "      <td>0</td>\n",
       "      <td>[101, 6678, 8425, 17170, 102, 0, 0, 0, 0, 0, 0...</td>\n",
       "    </tr>\n",
       "    <tr>\n",
       "      <th>1684</th>\n",
       "      <td>villanova coolers</td>\n",
       "      <td>0</td>\n",
       "      <td>[101, 6992, 13455, 14976, 2015, 102, 0, 0, 0, ...</td>\n",
       "    </tr>\n",
       "    <tr>\n",
       "      <th>249</th>\n",
       "      <td>motorola focus50</td>\n",
       "      <td>1</td>\n",
       "      <td>[101, 29583, 3579, 12376, 102, 0, 0, 0, 0, 0, ...</td>\n",
       "    </tr>\n",
       "    <tr>\n",
       "      <th>1763</th>\n",
       "      <td>logo beanie</td>\n",
       "      <td>0</td>\n",
       "      <td>[101, 8154, 14068, 2666, 102, 0, 0, 0, 0, 0, 0...</td>\n",
       "    </tr>\n",
       "    <tr>\n",
       "      <th>393</th>\n",
       "      <td>motocare razr 2nd gen accident protection 2 years</td>\n",
       "      <td>0</td>\n",
       "      <td>[101, 9587, 3406, 16302, 10958, 2480, 2099, 34...</td>\n",
       "    </tr>\n",
       "  </tbody>\n",
       "</table>\n",
       "</div>"
      ],
      "text/plain": [
       "                                                   name  Is_Leasable  \\\n",
       "123                               elevation graphic tee            0   \n",
       "1684                                  villanova coolers            0   \n",
       "249                                    motorola focus50            1   \n",
       "1763                                        logo beanie            0   \n",
       "393   motocare razr 2nd gen accident protection 2 years            0   \n",
       "\n",
       "                                       sentence_vectors  \n",
       "123   [101, 6678, 8425, 17170, 102, 0, 0, 0, 0, 0, 0...  \n",
       "1684  [101, 6992, 13455, 14976, 2015, 102, 0, 0, 0, ...  \n",
       "249   [101, 29583, 3579, 12376, 102, 0, 0, 0, 0, 0, ...  \n",
       "1763  [101, 8154, 14068, 2666, 102, 0, 0, 0, 0, 0, 0...  \n",
       "393   [101, 9587, 3406, 16302, 10958, 2480, 2099, 34...  "
      ]
     },
     "execution_count": 83,
     "metadata": {},
     "output_type": "execute_result"
    }
   ],
   "source": [
    "df_train=df_train.applymap(to_lower_case)\n",
    "df_train=df_train.applymap(remove_punctuation)\n",
    "df_train=df_train.applymap(tokenize)\n",
    "df_train=df_train.applymap(remove_stopwords)\n",
    "df_train=df_train.applymap(lambda x:\" \".join(x))\n",
    "df_train[\"sentence_vectors\"]=df_train[\"name\"].apply(sen_to_vec)\n",
    "df_train[\"Is_Leasable\"]=le.fit_transform(df_train[\"Is_Leasable\"].values)\n",
    "df_train=df_train.drop(\"Category\",axis=1)\n",
    "df_train.head()"
   ]
  },
  {
   "cell_type": "code",
   "execution_count": 84,
   "id": "52d26470",
   "metadata": {},
   "outputs": [
    {
     "data": {
      "text/html": [
       "<div>\n",
       "<style scoped>\n",
       "    .dataframe tbody tr th:only-of-type {\n",
       "        vertical-align: middle;\n",
       "    }\n",
       "\n",
       "    .dataframe tbody tr th {\n",
       "        vertical-align: top;\n",
       "    }\n",
       "\n",
       "    .dataframe thead th {\n",
       "        text-align: right;\n",
       "    }\n",
       "</style>\n",
       "<table border=\"1\" class=\"dataframe\">\n",
       "  <thead>\n",
       "    <tr style=\"text-align: right;\">\n",
       "      <th></th>\n",
       "      <th>0</th>\n",
       "      <th>1</th>\n",
       "      <th>2</th>\n",
       "      <th>3</th>\n",
       "      <th>4</th>\n",
       "      <th>5</th>\n",
       "      <th>6</th>\n",
       "      <th>7</th>\n",
       "      <th>8</th>\n",
       "      <th>9</th>\n",
       "      <th>...</th>\n",
       "      <th>43</th>\n",
       "      <th>44</th>\n",
       "      <th>45</th>\n",
       "      <th>46</th>\n",
       "      <th>47</th>\n",
       "      <th>48</th>\n",
       "      <th>49</th>\n",
       "      <th>50</th>\n",
       "      <th>51</th>\n",
       "      <th>Is_Leasable</th>\n",
       "    </tr>\n",
       "  </thead>\n",
       "  <tbody>\n",
       "    <tr>\n",
       "      <th>123</th>\n",
       "      <td>101</td>\n",
       "      <td>6678</td>\n",
       "      <td>8425</td>\n",
       "      <td>17170</td>\n",
       "      <td>102</td>\n",
       "      <td>0</td>\n",
       "      <td>0</td>\n",
       "      <td>0</td>\n",
       "      <td>0</td>\n",
       "      <td>0</td>\n",
       "      <td>...</td>\n",
       "      <td>0</td>\n",
       "      <td>0</td>\n",
       "      <td>0</td>\n",
       "      <td>0</td>\n",
       "      <td>0</td>\n",
       "      <td>0</td>\n",
       "      <td>0</td>\n",
       "      <td>0</td>\n",
       "      <td>0</td>\n",
       "      <td>0</td>\n",
       "    </tr>\n",
       "    <tr>\n",
       "      <th>1684</th>\n",
       "      <td>101</td>\n",
       "      <td>6992</td>\n",
       "      <td>13455</td>\n",
       "      <td>14976</td>\n",
       "      <td>2015</td>\n",
       "      <td>102</td>\n",
       "      <td>0</td>\n",
       "      <td>0</td>\n",
       "      <td>0</td>\n",
       "      <td>0</td>\n",
       "      <td>...</td>\n",
       "      <td>0</td>\n",
       "      <td>0</td>\n",
       "      <td>0</td>\n",
       "      <td>0</td>\n",
       "      <td>0</td>\n",
       "      <td>0</td>\n",
       "      <td>0</td>\n",
       "      <td>0</td>\n",
       "      <td>0</td>\n",
       "      <td>0</td>\n",
       "    </tr>\n",
       "    <tr>\n",
       "      <th>249</th>\n",
       "      <td>101</td>\n",
       "      <td>29583</td>\n",
       "      <td>3579</td>\n",
       "      <td>12376</td>\n",
       "      <td>102</td>\n",
       "      <td>0</td>\n",
       "      <td>0</td>\n",
       "      <td>0</td>\n",
       "      <td>0</td>\n",
       "      <td>0</td>\n",
       "      <td>...</td>\n",
       "      <td>0</td>\n",
       "      <td>0</td>\n",
       "      <td>0</td>\n",
       "      <td>0</td>\n",
       "      <td>0</td>\n",
       "      <td>0</td>\n",
       "      <td>0</td>\n",
       "      <td>0</td>\n",
       "      <td>0</td>\n",
       "      <td>1</td>\n",
       "    </tr>\n",
       "    <tr>\n",
       "      <th>1763</th>\n",
       "      <td>101</td>\n",
       "      <td>8154</td>\n",
       "      <td>14068</td>\n",
       "      <td>2666</td>\n",
       "      <td>102</td>\n",
       "      <td>0</td>\n",
       "      <td>0</td>\n",
       "      <td>0</td>\n",
       "      <td>0</td>\n",
       "      <td>0</td>\n",
       "      <td>...</td>\n",
       "      <td>0</td>\n",
       "      <td>0</td>\n",
       "      <td>0</td>\n",
       "      <td>0</td>\n",
       "      <td>0</td>\n",
       "      <td>0</td>\n",
       "      <td>0</td>\n",
       "      <td>0</td>\n",
       "      <td>0</td>\n",
       "      <td>0</td>\n",
       "    </tr>\n",
       "    <tr>\n",
       "      <th>393</th>\n",
       "      <td>101</td>\n",
       "      <td>9587</td>\n",
       "      <td>3406</td>\n",
       "      <td>16302</td>\n",
       "      <td>10958</td>\n",
       "      <td>2480</td>\n",
       "      <td>2099</td>\n",
       "      <td>3416</td>\n",
       "      <td>8991</td>\n",
       "      <td>4926</td>\n",
       "      <td>...</td>\n",
       "      <td>0</td>\n",
       "      <td>0</td>\n",
       "      <td>0</td>\n",
       "      <td>0</td>\n",
       "      <td>0</td>\n",
       "      <td>0</td>\n",
       "      <td>0</td>\n",
       "      <td>0</td>\n",
       "      <td>0</td>\n",
       "      <td>0</td>\n",
       "    </tr>\n",
       "  </tbody>\n",
       "</table>\n",
       "<p>5 rows × 53 columns</p>\n",
       "</div>"
      ],
      "text/plain": [
       "        0      1      2      3      4     5     6     7     8     9  ...  43  \\\n",
       "123   101   6678   8425  17170    102     0     0     0     0     0  ...   0   \n",
       "1684  101   6992  13455  14976   2015   102     0     0     0     0  ...   0   \n",
       "249   101  29583   3579  12376    102     0     0     0     0     0  ...   0   \n",
       "1763  101   8154  14068   2666    102     0     0     0     0     0  ...   0   \n",
       "393   101   9587   3406  16302  10958  2480  2099  3416  8991  4926  ...   0   \n",
       "\n",
       "      44  45  46  47  48  49  50  51  Is_Leasable  \n",
       "123    0   0   0   0   0   0   0   0            0  \n",
       "1684   0   0   0   0   0   0   0   0            0  \n",
       "249    0   0   0   0   0   0   0   0            1  \n",
       "1763   0   0   0   0   0   0   0   0            0  \n",
       "393    0   0   0   0   0   0   0   0            0  \n",
       "\n",
       "[5 rows x 53 columns]"
      ]
     },
     "execution_count": 84,
     "metadata": {},
     "output_type": "execute_result"
    }
   ],
   "source": [
    "df_final_for_model=pd.concat([df_train.pop('sentence_vectors').apply(pd.Series), df_train['Is_Leasable']], axis=1)\n",
    "df_final_for_model=df_final_for_model.fillna(0)\n",
    "df_final_for_model.head()"
   ]
  },
  {
   "cell_type": "code",
   "execution_count": 85,
   "id": "d0009e70",
   "metadata": {},
   "outputs": [
    {
     "data": {
      "image/png": "[encoded data removed]",
      "text/plain": [
       "<Figure size 432x288 with 1 Axes>"
      ]
     },
     "metadata": {
      "needs_background": "light"
     },
     "output_type": "display_data"
    }
   ],
   "source": [
    "import matplotlib.pyplot as plt\n",
    "\n",
    "# Visualize class distribution\n",
    "\n",
    "df_final_for_model[\"Is_Leasable\"].value_counts().plot(kind='bar')\n",
    "plt.xticks([0,1], ['Not_Leasable', 'Leasable'])\n",
    "plt.ylabel('Count');"
   ]
  },
  {
   "cell_type": "code",
   "execution_count": 86,
   "id": "730744eb",
   "metadata": {},
   "outputs": [],
   "source": [
    "X_train = df_final_for_model.drop(\"Is_Leasable\",axis=1)[:int(0.80*len(df_final_for_model))]\n",
    "y_train = df_final_for_model[\"Is_Leasable\"][:int(0.80*len(df_final_for_model))]\n",
    "\n",
    "X_test = df_final_for_model.drop(\"Is_Leasable\",axis=1)[int(0.80*len(df_final_for_model)):len(df_final_for_model)]\n",
    "y_test = df_final_for_model[\"Is_Leasable\"][int(0.80*len(df_final_for_model)):len(df_final_for_model)]"
   ]
  },
  {
   "cell_type": "code",
   "execution_count": 87,
   "id": "3fe2be01",
   "metadata": {},
   "outputs": [
    {
     "data": {
      "image/png": "[encoded data removed]",
      "text/plain": [
       "<Figure size 432x288 with 1 Axes>"
      ]
     },
     "metadata": {
      "needs_background": "light"
     },
     "output_type": "display_data"
    }
   ],
   "source": [
    "y_train.value_counts().plot(kind='bar')\n",
    "plt.xticks([0,1], ['Not_Leasable', 'Leasable'])\n",
    "plt.ylabel('Count');"
   ]
  },
  {
   "cell_type": "code",
   "execution_count": 88,
   "id": "eb7a5b6e",
   "metadata": {},
   "outputs": [
    {
     "data": {
      "image/png": "[encoded data removed]",
      "text/plain": [
       "<Figure size 432x288 with 1 Axes>"
      ]
     },
     "metadata": {
      "needs_background": "light"
     },
     "output_type": "display_data"
    }
   ],
   "source": [
    "from imblearn.over_sampling import SMOTE\n",
    "\n",
    "SMOTE = SMOTE()\n",
    "\n",
    "# fit and apply the transform\n",
    "X_train, y_train = SMOTE.fit_resample(X_train, y_train)\n",
    "y_train.value_counts().plot(kind='bar')\n",
    "plt.xticks([0,1], ['Not_Leasable', 'Leasable'])\n",
    "plt.ylabel('Count');"
   ]
  },
  {
   "cell_type": "code",
   "execution_count": 89,
   "id": "4e57800b",
   "metadata": {},
   "outputs": [
    {
     "name": "stdout",
     "output_type": "stream",
     "text": [
      "Train f1 Score: 0.47693920335429774\n",
      "Test f1 Score: 0.35294117647058826\n"
     ]
    },
    {
     "data": {
      "image/png": "[encoded data removed]",
      "text/plain": [
       "<Figure size 432x288 with 2 Axes>"
      ]
     },
     "metadata": {
      "needs_background": "light"
     },
     "output_type": "display_data"
    }
   ],
   "source": [
    "from sklearn.linear_model import LogisticRegression\n",
    "from sklearn.naive_bayes import MultinomialNB\n",
    "import numpy as np\n",
    "from sklearn.metrics import f1_score\n",
    "from sklearn.metrics import plot_confusion_matrix\n",
    "from sklearn.model_selection import RepeatedStratifiedKFold\n",
    "import pickle\n",
    "filename=\"new_finalized_model.sav\"\n",
    "clf = MultinomialNB()\n",
    "\n",
    "clf.fit(X_train, y_train)\n",
    "y_hat_test = clf.predict(X_test)\n",
    "y_hat_train = clf.predict(X_train)\n",
    "\n",
    "train_f1 = f1_score(y_train, y_hat_train)\n",
    "test_f1 = f1_score(y_test, y_hat_test)\n",
    "\n",
    "print(f\"Train f1 Score: {train_f1}\")\n",
    "print(f\"Test f1 Score: {test_f1}\")\n",
    "\n",
    "plot_confusion_matrix(clf, X_test, y_test, cmap='Blues', normalize='true',\n",
    "                     display_labels=['Non Leasable', 'Leasable']);\n",
    "\n",
    "pickle.dump(clf, open(filename, 'wb'))"
   ]
  },
  {
   "cell_type": "code",
   "execution_count": 91,
   "id": "f85d57ca",
   "metadata": {},
   "outputs": [
    {
     "name": "stdout",
     "output_type": "stream",
     "text": [
      "Fitting 10 folds for each of 100 candidates, totalling 1000 fits\n",
      "GaussianNB(var_smoothing=0.43287612810830584)\n"
     ]
    }
   ],
   "source": [
    "from sklearn.model_selection import GridSearchCV\n",
    "from sklearn.naive_bayes import GaussianNB\n",
    "\n",
    "param_grid_nb = {'var_smoothing': np.logspace(0,-9, num=100)}\n",
    "nbModel_grid = GridSearchCV(estimator=GaussianNB(), param_grid=param_grid_nb, verbose=1, cv=10, n_jobs=-1)\n",
    "nbModel_grid.fit(X_train, y_train)\n",
    "print(nbModel_grid.best_estimator_)"
   ]
  },
  {
   "cell_type": "code",
   "execution_count": 92,
   "id": "7f708a40",
   "metadata": {},
   "outputs": [
    {
     "name": "stdout",
     "output_type": "stream",
     "text": [
      "[[250  54]\n",
      " [129  46]] : is the confusion matrix\n",
      "0.6179540709812108 : is the accuracy score\n",
      "0.46 : is the precision score\n",
      "0.26285714285714284 : is the recall score\n",
      "0.33454545454545453 : is the f1 score\n"
     ]
    }
   ],
   "source": [
    "y_pred = nbModel_grid.predict(X_test)\n",
    "\n",
    "from sklearn.metrics import confusion_matrix\n",
    "print(confusion_matrix(y_test, y_pred), \": is the confusion matrix\")\n",
    "\n",
    "from sklearn.metrics import accuracy_score\n",
    "print(accuracy_score(y_test, y_pred), \": is the accuracy score\")\n",
    "\n",
    "from sklearn.metrics import precision_score\n",
    "print(precision_score(y_test, y_pred), \": is the precision score\")\n",
    "\n",
    "from sklearn.metrics import recall_score\n",
    "print(recall_score(y_test, y_pred), \": is the recall score\")\n",
    "\n",
    "from sklearn.metrics import f1_score\n",
    "print(f1_score(y_test, y_pred), \": is the f1 score\")"
   ]
  },
  {
   "cell_type": "code",
   "execution_count": 94,
   "id": "e16fa89f",
   "metadata": {},
   "outputs": [
    {
     "data": {
      "image/png": "[encoded data removed]",
      "text/plain": [
       "<Figure size 432x288 with 2 Axes>"
      ]
     },
     "metadata": {
      "needs_background": "light"
     },
     "output_type": "display_data"
    }
   ],
   "source": [
    "plot_confusion_matrix(nbModel_grid, X_test, y_test, cmap='Blues', normalize='true',\n",
    "                     display_labels=['Non Leasable', 'Leasable']);\n"
   ]
  },
  {
   "cell_type": "code",
   "execution_count": null,
   "id": "e67edfcd",
   "metadata": {},
   "outputs": [],
   "source": []
  }
 ],
 "metadata": {
  "kernelspec": {
   "display_name": "Python 3",
   "language": "python",
   "name": "python3"
  },
  "language_info": {
   "codemirror_mode": {
    "name": "ipython",
    "version": 3
   },
   "file_extension": ".py",
   "mimetype": "text/x-python",
   "name": "python",
   "nbconvert_exporter": "python",
   "pygments_lexer": "ipython3",
   "version": "3.8.8"
  }
 },
 "nbformat": 4,
 "nbformat_minor": 5
}
